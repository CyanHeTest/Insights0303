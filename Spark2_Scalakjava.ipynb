{
 "cells": [
  {
   "cell_type": "code",
   "execution_count": 2,
   "metadata": {},
   "outputs": [
    {
     "name": "stdout",
     "output_type": "stream",
     "text": [
      "50\n",
      "Execution Completed\n"
     ]
    }
   ],
   "source": [
    "from pyspark import SparkContext, SparkConf, HiveContext\n",
    "from pyspark.sql import Row, SparkSession\n",
    "from pyspark.sql.types import *\n",
    "import pyspark.sql.functions as f\n",
    "\n",
    "spark = (SparkSession \n",
    "    .builder \n",
    "    .appName(\"Spark Test\") \n",
    "    .config(\"spark.dynamicAllocation.enabled\", \"true\")\n",
    "    .config(\"spark.shuffle.service.enabled\", \"true\")\n",
    "    .config(\"spark.dynamicAllocation.maxExecutors\", \"10\") \n",
    "    .config(\"spark.executor.cores\", \"3\") \n",
    "    .config(\"spark.driver.cores\", \"1\") \n",
    "    .config(\"spark.executor.memory\", \"5G\") \n",
    "    .config(\"spark.driver.memory\", \"8G\")\n",
    "    .enableHiveSupport() \n",
    "    .getOrCreate())\n",
    "\n",
    "num1 = 20\n",
    "num2 = 30\n",
    "\n",
    "total = num1+num2\n",
    "print(total)\n",
    "\n",
    "print('Execution Completed')"
   ]
  },
  {
   "cell_type": "code",
   "execution_count": null,
   "metadata": {},
   "outputs": [],
   "source": []
  }
 ],
 "metadata": {
  "kernelspec": {
   "display_name": "PySpark2-Python3",
   "language": "python",
   "name": "pyspark3"
  },
  "language_info": {
   "codemirror_mode": {
    "name": "ipython",
    "version": 3
   },
   "file_extension": ".py",
   "mimetype": "text/x-python",
   "name": "python",
   "nbconvert_exporter": "python",
   "pygments_lexer": "ipython3",
   "version": "3.7.3"
  }
 },
 "nbformat": 4,
 "nbformat_minor": 4
}
